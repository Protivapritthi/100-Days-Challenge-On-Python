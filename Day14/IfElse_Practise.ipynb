{
  "nbformat": 4,
  "nbformat_minor": 0,
  "metadata": {
    "colab": {
      "provenance": []
    },
    "kernelspec": {
      "name": "python3",
      "display_name": "Python 3"
    },
    "language_info": {
      "name": "python"
    }
  },
  "cells": [
    {
      "cell_type": "markdown",
      "source": [
        "Easy Problems:\n",
        "1.\n",
        "Grade Checker: Write a program that asks the user to input their exam score. If the score is 50 or higher, print \"Pass\". If the score is below 50, print \"Fail\".\n"
      ],
      "metadata": {
        "id": "JA5wDFk6jyp2"
      }
    },
    {
      "cell_type": "code",
      "source": [
        "a = int(input(\"Enter Your Exam Score: \"))\n",
        "if  (a>=50):\n",
        "  print(\"Pass\")\n",
        "else:\n",
        "  print(\"Fail\")"
      ],
      "metadata": {
        "colab": {
          "base_uri": "https://localhost:8080/"
        },
        "id": "U8KsWhyzj1Yp",
        "outputId": "f969111c-e5cb-420c-cfa3-a6210778ab49"
      },
      "execution_count": 2,
      "outputs": [
        {
          "output_type": "stream",
          "name": "stdout",
          "text": [
            "Enter Your Exam Score: 53\n",
            "Pass\n"
          ]
        }
      ]
    },
    {
      "cell_type": "markdown",
      "source": [
        "2.\n",
        "Even or Odd: Write a program that takes an integer as input and prints whether the number is \"Even\" or \"Odd\"."
      ],
      "metadata": {
        "id": "_4C_2Xx-kea4"
      }
    },
    {
      "cell_type": "code",
      "source": [
        "a = int(input(\"enter the number to check: \"))\n",
        "\n",
        "if (a%2 == 0):\n",
        "  print(\"Even\")\n",
        "else:\n",
        "  print(\"Odd\")"
      ],
      "metadata": {
        "colab": {
          "base_uri": "https://localhost:8080/"
        },
        "id": "eBF38PWzkk9z",
        "outputId": "69d0084e-7f7b-4650-99ae-b54917008961"
      },
      "execution_count": 4,
      "outputs": [
        {
          "output_type": "stream",
          "name": "stdout",
          "text": [
            "enter the number to check: 98\n",
            "Even\n"
          ]
        }
      ]
    },
    {
      "cell_type": "markdown",
      "source": [
        "Medium Problems:\n",
        "Number Comparison: Write a program that asks the user to input three numbers. Determine and print which number is the largest. If two or more numbers are equal and the largest, print \"There is a tie.\""
      ],
      "metadata": {
        "id": "SXivnkuKl8AQ"
      }
    },
    {
      "cell_type": "code",
      "source": [
        "a = int(input(\"Enter the 1st number: \"))\n",
        "b = int(input(\"Enter the 2nd number: \"))\n",
        "c = int(input(\"Enter the 3rd number: \"))\n",
        "\n",
        "if (a>b):\n",
        "\tif (a>c):\n",
        "\t\tprint (a, \"is largest. \")\n",
        "\telif(a<c):\n",
        "\t\tprint (c, \"is largest. \")\n",
        "\telse:\n",
        "\t\tprint (\"There is a tie.\")\n",
        "else:\n",
        "\tif (b>c):\n",
        "\t\tprint (b, \"is largest. \")\n",
        "\telif (b<c):\n",
        "\t\tprint (c, \"is largest. \")\n",
        "\telse:\n",
        "\t\tprint (\"There is a tie.\")\n"
      ],
      "metadata": {
        "colab": {
          "base_uri": "https://localhost:8080/"
        },
        "id": "8Xe5A0jPl8vk",
        "outputId": "9eadb1c6-d29d-41fa-c8b9-2df9325c92eb"
      },
      "execution_count": 15,
      "outputs": [
        {
          "output_type": "stream",
          "name": "stdout",
          "text": [
            "Enter the 1st number: 2\n",
            "Enter the 2nd number: 2\n",
            "Enter the 3rd number: 4\n",
            "4 is largest. \n"
          ]
        }
      ]
    },
    {
      "cell_type": "markdown",
      "source": [
        "Leap Year Checker: Write a program that takes a year as input and checks whether it is a leap year or not. A year is a leap year if it is divisible by 4 but not by 100, unless it is also divisible by 400."
      ],
      "metadata": {
        "id": "In2pSM5Yph-c"
      }
    },
    {
      "cell_type": "code",
      "source": [
        "year= int(input(\"Enter the year: \"))\n",
        "\n",
        "if (year %4==0):\n",
        "\tif (year %100==0):\n",
        "\t\tprint(\"It is not a leap year\")\n",
        "\telse:\n",
        "\t\tprint(\"It is a leap year\")\n",
        "\n",
        "elif(year%400==0):\n",
        "\tprint(\"It is a leap year\")\n",
        "\n",
        "else:\n",
        "\tprint(\"It is not a leap year\")"
      ],
      "metadata": {
        "colab": {
          "base_uri": "https://localhost:8080/"
        },
        "id": "GWDLU_1Jpl5E",
        "outputId": "1cce9ca5-2e60-4a7f-c8b4-a821fc3e55ea"
      },
      "execution_count": 20,
      "outputs": [
        {
          "output_type": "stream",
          "name": "stdout",
          "text": [
            "Enter the year: 2012\n",
            "It is a leap year\n"
          ]
        }
      ]
    },
    {
      "cell_type": "markdown",
      "source": [
        "another one"
      ],
      "metadata": {
        "id": "l3zc0zxM19Hn"
      }
    },
    {
      "cell_type": "code",
      "source": [
        "year = int(input(\"Enter the year: \"))\n",
        "\n",
        "if year % 4 == 0:\n",
        "    if year % 100 == 0:\n",
        "        if year % 400 == 0:\n",
        "            print(\"It is a leap year\")\n",
        "        else:\n",
        "            print(\"It is not a leap year\")\n",
        "    else:\n",
        "        print(\"It is a leap year\")\n",
        "else:\n",
        "    print(\"It is not a leap year\")"
      ],
      "metadata": {
        "colab": {
          "base_uri": "https://localhost:8080/"
        },
        "id": "YlLeHmwZ1-b2",
        "outputId": "8ba60ec4-102f-4bea-93a0-55c3e52845dc"
      },
      "execution_count": 39,
      "outputs": [
        {
          "output_type": "stream",
          "name": "stdout",
          "text": [
            "Enter the year: 2000\n",
            "It is a leap year\n"
          ]
        }
      ]
    },
    {
      "cell_type": "markdown",
      "source": [
        "Hard Problems:\n",
        "BMI Calculator: Write a program that calculates a person's Body Mass Index (BMI) based on their weight (in kilograms) and height (in meters). The program should categorize the BMI into Underweight, Normal weight, Overweight, and Obesity based on standard BMI ranges."
      ],
      "metadata": {
        "id": "X43T-zAlrHUh"
      }
    },
    {
      "cell_type": "code",
      "source": [
        "a = int(input(\"Give Weight in kg: \"))\n",
        "b = float(input(\"Give height in meter: \"))\n",
        "\n",
        "bmi= a/(b**2)\n",
        "\n",
        "if (bmi <18.5):\n",
        "\tprint(\"Underweight\")\n",
        "elif (18.5<=bmi<24.9 ):\n",
        "\tprint(\"Normal Weight\")\n",
        "elif (24.9<=bmi<=29.9):\n",
        "\tprint(\"Over Weight\")\n",
        "else:\n",
        "\tprint(\"Obese\")\n",
        "\n",
        "print(bmi, \"is BMI\")"
      ],
      "metadata": {
        "colab": {
          "base_uri": "https://localhost:8080/"
        },
        "id": "KgSv8pIzrII6",
        "outputId": "27976b74-cba3-432b-c1fc-81040d07df69"
      },
      "execution_count": 38,
      "outputs": [
        {
          "output_type": "stream",
          "name": "stdout",
          "text": [
            "Give Weight in kg: 92\n",
            "Give height in meter: 1.62\n",
            "Obese\n",
            "35.055631763450684 is BMI\n"
          ]
        }
      ]
    },
    {
      "cell_type": "markdown",
      "source": [
        "Triangle Type Checker: Write a program that takes the lengths of three sides of a triangle as input and determines if the triangle is Equilateral (all sides equal), Isosceles (two sides equal), or Scalene (all sides different). Additionally, check if the sides can actually form a triangle (i.e., the sum of the lengths of any two sides must be greater than the third side)."
      ],
      "metadata": {
        "id": "wxycl07owRNq"
      }
    },
    {
      "cell_type": "code",
      "source": [],
      "metadata": {
        "id": "X9GkAKuYwV2W"
      },
      "execution_count": null,
      "outputs": []
    }
  ]
}