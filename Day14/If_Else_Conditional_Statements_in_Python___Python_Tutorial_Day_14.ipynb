{
  "nbformat": 4,
  "nbformat_minor": 0,
  "metadata": {
    "colab": {
      "provenance": []
    },
    "kernelspec": {
      "name": "python3",
      "display_name": "Python 3"
    },
    "language_info": {
      "name": "python"
    }
  },
  "cells": [
    {
      "cell_type": "code",
      "execution_count": 3,
      "metadata": {
        "colab": {
          "base_uri": "https://localhost:8080/"
        },
        "id": "0YXfEwOIYjHl",
        "outputId": "2c3ca42a-f7c9-4e0b-f1da-686e2a2e5f8e"
      },
      "outputs": [
        {
          "output_type": "stream",
          "name": "stdout",
          "text": [
            "Enter Your Age: 6\n",
            "Your Age is  6 Now\n",
            "So, You Can not drive!\n"
          ]
        }
      ],
      "source": [
        "a = int(input(\"Enter Your Age: \"))\n",
        "print (\"Your Age is \", a ,\"Now\")\n",
        "\n",
        "if (a>=18):\n",
        "  print(\"So, You can drive!\")\n",
        "else:\n",
        "  print(\"So, You Can not drive!\")"
      ]
    },
    {
      "cell_type": "code",
      "source": [],
      "metadata": {
        "id": "MHwt0wHZZhl2"
      },
      "execution_count": null,
      "outputs": []
    }
  ]
}