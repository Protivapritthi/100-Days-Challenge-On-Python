{
  "nbformat": 4,
  "nbformat_minor": 0,
  "metadata": {
    "colab": {
      "provenance": []
    },
    "kernelspec": {
      "name": "python3",
      "display_name": "Python 3"
    },
    "language_info": {
      "name": "python"
    }
  },
  "cells": [
    {
      "cell_type": "code",
      "execution_count": null,
      "metadata": {
        "colab": {
          "base_uri": "https://localhost:8080/"
        },
        "id": "TV0qZH115t1C",
        "outputId": "126f45d0-d8fd-45be-af0f-f6e906e44246"
      },
      "outputs": [
        {
          "output_type": "stream",
          "name": "stdout",
          "text": [
            "Enter the name:PRo\n",
            "The year was PRo\n"
          ]
        }
      ],
      "source": [
        "a= input(\"Enter the name:\")\n",
        "print (\"The year was\",a)"
      ]
    },
    {
      "cell_type": "code",
      "source": [
        "p = (input(\"Enter your Name: \"))\n",
        "print (\"Name is :\",p)\n",
        "\n",
        "x = (int(input(\"Give the birth year: \")))\n",
        "y = (int(input(\"Give the current year: \")))\n",
        "Your_age = y-x\n",
        "print (\"Your age is \", Your_age)"
      ],
      "metadata": {
        "colab": {
          "base_uri": "https://localhost:8080/"
        },
        "id": "qRWfZuCDBRXJ",
        "outputId": "3ac70c6f-dcbb-4516-b995-4b5d860fb10f"
      },
      "execution_count": null,
      "outputs": [
        {
          "output_type": "stream",
          "name": "stdout",
          "text": [
            "Enter your Name: Protiva\n",
            "Name is : Protiva\n",
            "Give the birth year: 1998\n",
            "Give the current year: 2024\n",
            "Your age is  26\n"
          ]
        }
      ]
    },
    {
      "cell_type": "code",
      "source": [
        "\n",
        "x = (int(input(\"Give the birth year: \")))\n",
        "y = (int(input(\"Give the current year: \")))\n",
        "Your_age = y-x\n",
        "print (\"Your age is \", Your_age)\n",
        "sum= (print(\"Summation of two numbers is\", int (x) + int (y)))"
      ],
      "metadata": {
        "colab": {
          "base_uri": "https://localhost:8080/"
        },
        "id": "CdshqS6yCunl",
        "outputId": "380cb977-e56c-4d1d-9975-5e7ba6a372ee"
      },
      "execution_count": null,
      "outputs": [
        {
          "output_type": "stream",
          "name": "stdout",
          "text": [
            "Give the birth year: 1998\n",
            "Give the current year: 2024\n",
            "Your age is  26\n",
            "Summation of two numbers is 4022\n"
          ]
        }
      ]
    }
  ]
}