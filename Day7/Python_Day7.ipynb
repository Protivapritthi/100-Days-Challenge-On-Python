{
  "nbformat": 4,
  "nbformat_minor": 0,
  "metadata": {
    "colab": {
      "provenance": []
    },
    "kernelspec": {
      "name": "python3",
      "display_name": "Python 3"
    },
    "language_info": {
      "name": "python"
    }
  },
  "cells": [
    {
      "cell_type": "markdown",
      "source": [
        "Calculator Excercise:\n"
      ],
      "metadata": {
        "id": "eEUQLKqheAIw"
      }
    },
    {
      "cell_type": "code",
      "source": [
        "from re import S\n",
        "print(\"Give the first number:\")\n",
        "p = int(input())\n",
        "\n",
        "print(\"Give the second number:\")\n",
        "s = int(input())\n",
        "\n",
        "sum = p + s\n",
        "print(\"The sum is:\" ,sum)\n",
        "\n",
        "sub = p- s\n",
        "print(sub)\n",
        "\n",
        "mul = p*s\n",
        "print (mul)\n",
        "\n",
        "div = p/s\n",
        "print (div)\n",
        "\n",
        "power = p**4\n",
        "print(power)\n",
        "\n",
        "mod = p % s\n",
        "print(mod)\n",
        "\n",
        "floor_div = p//s\n",
        "print(floor_div)\n",
        "\n",
        "ceil_div = (-p//s)\n",
        "print(ceil_div)"
      ],
      "metadata": {
        "colab": {
          "base_uri": "https://localhost:8080/"
        },
        "id": "JEQI9hkjeFWn",
        "outputId": "c3aa3f36-631e-4e76-d471-3ba70118051e"
      },
      "execution_count": 15,
      "outputs": [
        {
          "output_type": "stream",
          "name": "stdout",
          "text": [
            "Give the first number:\n",
            "6\n",
            "Give the second number:\n",
            "5\n",
            "The sum is: 11\n",
            "1\n",
            "30\n",
            "1.2\n",
            "1296\n",
            "1\n",
            "1\n",
            "-2\n"
          ]
        }
      ]
    }
  ]
}