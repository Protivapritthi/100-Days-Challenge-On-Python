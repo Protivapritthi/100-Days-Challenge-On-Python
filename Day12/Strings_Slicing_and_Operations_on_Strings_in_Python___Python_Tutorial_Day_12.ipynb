{
  "nbformat": 4,
  "nbformat_minor": 0,
  "metadata": {
    "colab": {
      "provenance": []
    },
    "kernelspec": {
      "name": "python3",
      "display_name": "Python 3"
    },
    "language_info": {
      "name": "python"
    }
  },
  "cells": [
    {
      "cell_type": "code",
      "execution_count": 1,
      "metadata": {
        "colab": {
          "base_uri": "https://localhost:8080/"
        },
        "id": "UCbdJeooarIo",
        "outputId": "d5e53412-acec-4dfe-ebe6-fc82f30b2648"
      },
      "outputs": [
        {
          "output_type": "stream",
          "name": "stdout",
          "text": [
            "P\n"
          ]
        }
      ],
      "source": [
        "names = \"Protiva, Sovon, Pritthi, Das, Chakraborty\"\n",
        "print(names[0])"
      ]
    },
    {
      "cell_type": "code",
      "source": [
        "names = \"Protiva, Sovon, Pritthi, Das, Chakraborty\"\n",
        "print(names[0:7])"
      ],
      "metadata": {
        "colab": {
          "base_uri": "https://localhost:8080/"
        },
        "id": "N3_IRuo1bS5H",
        "outputId": "91cb9d0b-ddae-496c-935a-dfa943a29f88"
      },
      "execution_count": 3,
      "outputs": [
        {
          "output_type": "stream",
          "name": "stdout",
          "text": [
            "Protiva\n"
          ]
        }
      ]
    },
    {
      "cell_type": "markdown",
      "source": [
        "Length defining"
      ],
      "metadata": {
        "id": "ZHqdIcIxb3bB"
      }
    },
    {
      "cell_type": "code",
      "source": [
        "names = \"Protiva, Sovon, Pritthi, Das, Chakraborty\"\n",
        "print(len(names))"
      ],
      "metadata": {
        "colab": {
          "base_uri": "https://localhost:8080/"
        },
        "id": "xjRnsGh1bhQG",
        "outputId": "0e343b32-fb61-445a-9776-12b5a15cd8eb"
      },
      "execution_count": 4,
      "outputs": [
        {
          "output_type": "stream",
          "name": "stdout",
          "text": [
            "41\n"
          ]
        }
      ]
    },
    {
      "cell_type": "code",
      "source": [
        "name = \"Protiva\"\n",
        "print(len(name))"
      ],
      "metadata": {
        "colab": {
          "base_uri": "https://localhost:8080/"
        },
        "id": "XkjvqyW6by24",
        "outputId": "8db1ae1d-3c61-42f6-ca2d-d4ac84d031f4"
      },
      "execution_count": 5,
      "outputs": [
        {
          "output_type": "stream",
          "name": "stdout",
          "text": [
            "7\n"
          ]
        }
      ]
    },
    {
      "cell_type": "code",
      "source": [
        "name = \"Protiva\"\n",
        "print(len(name))\n",
        "print(name[3])"
      ],
      "metadata": {
        "colab": {
          "base_uri": "https://localhost:8080/"
        },
        "id": "2nU-9R6rcUrW",
        "outputId": "31bbb497-c862-4142-dc57-778c1c07cd0c"
      },
      "execution_count": 6,
      "outputs": [
        {
          "output_type": "stream",
          "name": "stdout",
          "text": [
            "7\n",
            "t\n"
          ]
        }
      ]
    },
    {
      "cell_type": "code",
      "source": [
        "name = \"Protiva\"\n",
        "print(len(name))\n",
        "print(name[0:3])"
      ],
      "metadata": {
        "colab": {
          "base_uri": "https://localhost:8080/"
        },
        "id": "UCzGzbj1cuS2",
        "outputId": "7d9ae159-ba3d-4355-accb-f3c67b9e0eab"
      },
      "execution_count": 8,
      "outputs": [
        {
          "output_type": "stream",
          "name": "stdout",
          "text": [
            "7\n",
            "Pro\n"
          ]
        }
      ]
    },
    {
      "cell_type": "code",
      "source": [
        "name = \"Protiva\"\n",
        "print(len(name))\n",
        "print(name[0:3])\n",
        "print(name[0:-4])"
      ],
      "metadata": {
        "colab": {
          "base_uri": "https://localhost:8080/"
        },
        "id": "4T3U58_RdSXH",
        "outputId": "aed0d735-0535-463b-d5ca-8d54bd87c2f9"
      },
      "execution_count": 10,
      "outputs": [
        {
          "output_type": "stream",
          "name": "stdout",
          "text": [
            "7\n",
            "Pro\n",
            "Pro\n"
          ]
        }
      ]
    }
  ]
}