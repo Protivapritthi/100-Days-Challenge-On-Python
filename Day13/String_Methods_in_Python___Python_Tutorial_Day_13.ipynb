{
  "nbformat": 4,
  "nbformat_minor": 0,
  "metadata": {
    "colab": {
      "provenance": []
    },
    "kernelspec": {
      "name": "python3",
      "display_name": "Python 3"
    },
    "language_info": {
      "name": "python"
    }
  },
  "cells": [
    {
      "cell_type": "code",
      "execution_count": 9,
      "metadata": {
        "id": "PguJ6W2XfgzE",
        "colab": {
          "base_uri": "https://localhost:8080/"
        },
        "outputId": "1517f534-18c5-4fb7-a2f1-a1d91067be46"
      },
      "outputs": [
        {
          "output_type": "stream",
          "name": "stdout",
          "text": [
            "PROTIVA!!\n",
            "protiva!!\n",
            "Protiva!!\n",
            "Protiva\n",
            "Protiva!!\n",
            "Protiva\n",
            "Sovon!!\n"
          ]
        }
      ],
      "source": [
        "name = 'Protiva!!'\n",
        "print(name.upper())\n",
        "print(name.lower())\n",
        "print(name.capitalize())\n",
        "print(name.rstrip('!'))\n",
        "print(name.lstrip('!'))\n",
        "print(name.strip('!'))\n",
        "print(name.replace(\"Protiva\", \"Sovon\"))"
      ]
    }
  ]
}