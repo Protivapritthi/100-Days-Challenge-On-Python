{
  "nbformat": 4,
  "nbformat_minor": 0,
  "metadata": {
    "colab": {
      "provenance": [],
      "toc_visible": true
    },
    "kernelspec": {
      "name": "python3",
      "display_name": "Python 3"
    },
    "language_info": {
      "name": "python"
    }
  },
  "cells": [
    {
      "cell_type": "code",
      "execution_count": 6,
      "metadata": {
        "colab": {
          "base_uri": "https://localhost:8080/"
        },
        "id": "rCLlUigpT194",
        "outputId": "f8c5832d-e595-4d25-90c9-c468024b39d9"
      },
      "outputs": [
        {
          "output_type": "stream",
          "name": "stdout",
          "text": [
            "Hey! I am \n",
            " Protiva.\n"
          ]
        }
      ],
      "source": [
        "print(\"Hey! I am \\n Protiva.\")\n",
        "# NAme\n",
        "#control+forward slash dile eksathe uncomment hoi"
      ]
    },
    {
      "cell_type": "code",
      "source": [],
      "metadata": {
        "id": "StJP9eI3y1Bv"
      },
      "execution_count": null,
      "outputs": []
    }
  ]
}