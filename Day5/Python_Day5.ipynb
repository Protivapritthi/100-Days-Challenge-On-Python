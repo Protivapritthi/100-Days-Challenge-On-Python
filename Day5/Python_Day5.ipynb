{
  "nbformat": 4,
  "nbformat_minor": 0,
  "metadata": {
    "colab": {
      "provenance": []
    },
    "kernelspec": {
      "name": "python3",
      "display_name": "Python 3"
    },
    "language_info": {
      "name": "python"
    }
  },
  "cells": [
    {
      "cell_type": "code",
      "execution_count": 1,
      "metadata": {
        "id": "_-H_CK91RbIf"
      },
      "outputs": [],
      "source": [
        "#comment statement it is"
      ]
    },
    {
      "cell_type": "code",
      "source": [
        "\"\"\"\n",
        "hey this is\n",
        "another\n",
        "comment\n",
        "statement\n",
        "\n",
        "\"\"\""
      ],
      "metadata": {
        "colab": {
          "base_uri": "https://localhost:8080/",
          "height": 36
        },
        "id": "BlCgUuUWRoT0",
        "outputId": "1b96fa6d-fee6-41d8-9a01-696e28994c78"
      },
      "execution_count": 7,
      "outputs": [
        {
          "output_type": "execute_result",
          "data": {
            "text/plain": [
              "'\\nhey this is \\nanother \\ncomment\\nstatement \\n\\n'"
            ],
            "application/vnd.google.colaboratory.intrinsic+json": {
              "type": "string"
            }
          },
          "metadata": {},
          "execution_count": 7
        }
      ]
    },
    {
      "cell_type": "code",
      "source": [
        "\n",
        "print(\"hey this is another \\ncomment statement\")"
      ],
      "metadata": {
        "colab": {
          "base_uri": "https://localhost:8080/"
        },
        "id": "Siio9Ns8TREn",
        "outputId": "2535f5da-3aeb-4056-e0c4-206d6f196e9f"
      },
      "execution_count": 12,
      "outputs": [
        {
          "output_type": "stream",
          "name": "stdout",
          "text": [
            "hey this is another \n",
            "comment statement\n"
          ]
        }
      ]
    },
    {
      "cell_type": "code",
      "source": [
        "print( \"Hey\",5,7 ,sep =\"$\", end = \"007\")"
      ],
      "metadata": {
        "colab": {
          "base_uri": "https://localhost:8080/"
        },
        "id": "4cfEXTbEX0ww",
        "outputId": "d20f5bca-c87c-4c0e-8ac6-a5d4e44a32c4"
      },
      "execution_count": 13,
      "outputs": [
        {
          "output_type": "stream",
          "name": "stdout",
          "text": [
            "Hey$5$7007"
          ]
        }
      ]
    }
  ]
}